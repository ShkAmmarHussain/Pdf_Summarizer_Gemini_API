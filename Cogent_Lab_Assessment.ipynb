{
  "cells": [
    {
      "cell_type": "markdown",
      "id": "fded102b",
      "metadata": {
        "id": "fded102b"
      },
      "source": [
        "# Task 1"
      ]
    },
    {
      "cell_type": "markdown",
      "source": [
        "## Install Dependencies"
      ],
      "metadata": {
        "id": "zA71rFgMYb0f"
      },
      "id": "zA71rFgMYb0f"
    },
    {
      "cell_type": "code",
      "source": [
        "!pip install python-dotenv langchain_google_genai langchain langchain-community pypdf fpdf"
      ],
      "metadata": {
        "colab": {
          "base_uri": "https://localhost:8080/"
        },
        "collapsed": true,
        "id": "vGqJc0wXUBAn",
        "outputId": "1cf46319-dddd-4819-80d3-3c58e30260c8"
      },
      "id": "vGqJc0wXUBAn",
      "execution_count": 75,
      "outputs": [
        {
          "output_type": "stream",
          "name": "stdout",
          "text": [
            "Requirement already satisfied: python-dotenv in /usr/local/lib/python3.10/dist-packages (1.0.1)\n",
            "Requirement already satisfied: langchain_google_genai in /usr/local/lib/python3.10/dist-packages (1.0.8)\n",
            "Requirement already satisfied: langchain in /usr/local/lib/python3.10/dist-packages (0.2.11)\n",
            "Requirement already satisfied: langchain-community in /usr/local/lib/python3.10/dist-packages (0.2.10)\n",
            "Requirement already satisfied: pypdf in /usr/local/lib/python3.10/dist-packages (4.3.1)\n",
            "Requirement already satisfied: fpdf in /usr/local/lib/python3.10/dist-packages (1.7.2)\n",
            "Requirement already satisfied: google-generativeai<0.8.0,>=0.7.0 in /usr/local/lib/python3.10/dist-packages (from langchain_google_genai) (0.7.2)\n",
            "Requirement already satisfied: langchain-core<0.3,>=0.2.17 in /usr/local/lib/python3.10/dist-packages (from langchain_google_genai) (0.2.25)\n",
            "Requirement already satisfied: PyYAML>=5.3 in /usr/local/lib/python3.10/dist-packages (from langchain) (6.0.1)\n",
            "Requirement already satisfied: SQLAlchemy<3,>=1.4 in /usr/local/lib/python3.10/dist-packages (from langchain) (2.0.31)\n",
            "Requirement already satisfied: aiohttp<4.0.0,>=3.8.3 in /usr/local/lib/python3.10/dist-packages (from langchain) (3.9.5)\n",
            "Requirement already satisfied: async-timeout<5.0.0,>=4.0.0 in /usr/local/lib/python3.10/dist-packages (from langchain) (4.0.3)\n",
            "Requirement already satisfied: langchain-text-splitters<0.3.0,>=0.2.0 in /usr/local/lib/python3.10/dist-packages (from langchain) (0.2.2)\n",
            "Requirement already satisfied: langsmith<0.2.0,>=0.1.17 in /usr/local/lib/python3.10/dist-packages (from langchain) (0.1.94)\n",
            "Requirement already satisfied: numpy<2,>=1 in /usr/local/lib/python3.10/dist-packages (from langchain) (1.26.4)\n",
            "Requirement already satisfied: pydantic<3,>=1 in /usr/local/lib/python3.10/dist-packages (from langchain) (2.8.2)\n",
            "Requirement already satisfied: requests<3,>=2 in /usr/local/lib/python3.10/dist-packages (from langchain) (2.31.0)\n",
            "Requirement already satisfied: tenacity!=8.4.0,<9.0.0,>=8.1.0 in /usr/local/lib/python3.10/dist-packages (from langchain) (8.5.0)\n",
            "Requirement already satisfied: dataclasses-json<0.7,>=0.5.7 in /usr/local/lib/python3.10/dist-packages (from langchain-community) (0.6.7)\n",
            "Requirement already satisfied: typing_extensions>=4.0 in /usr/local/lib/python3.10/dist-packages (from pypdf) (4.12.2)\n",
            "Requirement already satisfied: aiosignal>=1.1.2 in /usr/local/lib/python3.10/dist-packages (from aiohttp<4.0.0,>=3.8.3->langchain) (1.3.1)\n",
            "Requirement already satisfied: attrs>=17.3.0 in /usr/local/lib/python3.10/dist-packages (from aiohttp<4.0.0,>=3.8.3->langchain) (23.2.0)\n",
            "Requirement already satisfied: frozenlist>=1.1.1 in /usr/local/lib/python3.10/dist-packages (from aiohttp<4.0.0,>=3.8.3->langchain) (1.4.1)\n",
            "Requirement already satisfied: multidict<7.0,>=4.5 in /usr/local/lib/python3.10/dist-packages (from aiohttp<4.0.0,>=3.8.3->langchain) (6.0.5)\n",
            "Requirement already satisfied: yarl<2.0,>=1.0 in /usr/local/lib/python3.10/dist-packages (from aiohttp<4.0.0,>=3.8.3->langchain) (1.9.4)\n",
            "Requirement already satisfied: marshmallow<4.0.0,>=3.18.0 in /usr/local/lib/python3.10/dist-packages (from dataclasses-json<0.7,>=0.5.7->langchain-community) (3.21.3)\n",
            "Requirement already satisfied: typing-inspect<1,>=0.4.0 in /usr/local/lib/python3.10/dist-packages (from dataclasses-json<0.7,>=0.5.7->langchain-community) (0.9.0)\n",
            "Requirement already satisfied: google-ai-generativelanguage==0.6.6 in /usr/local/lib/python3.10/dist-packages (from google-generativeai<0.8.0,>=0.7.0->langchain_google_genai) (0.6.6)\n",
            "Requirement already satisfied: google-api-core in /usr/local/lib/python3.10/dist-packages (from google-generativeai<0.8.0,>=0.7.0->langchain_google_genai) (2.19.1)\n",
            "Requirement already satisfied: google-api-python-client in /usr/local/lib/python3.10/dist-packages (from google-generativeai<0.8.0,>=0.7.0->langchain_google_genai) (2.137.0)\n",
            "Requirement already satisfied: google-auth>=2.15.0 in /usr/local/lib/python3.10/dist-packages (from google-generativeai<0.8.0,>=0.7.0->langchain_google_genai) (2.27.0)\n",
            "Requirement already satisfied: protobuf in /usr/local/lib/python3.10/dist-packages (from google-generativeai<0.8.0,>=0.7.0->langchain_google_genai) (3.20.3)\n",
            "Requirement already satisfied: tqdm in /usr/local/lib/python3.10/dist-packages (from google-generativeai<0.8.0,>=0.7.0->langchain_google_genai) (4.66.4)\n",
            "Requirement already satisfied: proto-plus<2.0.0dev,>=1.22.3 in /usr/local/lib/python3.10/dist-packages (from google-ai-generativelanguage==0.6.6->google-generativeai<0.8.0,>=0.7.0->langchain_google_genai) (1.24.0)\n",
            "Requirement already satisfied: jsonpatch<2.0,>=1.33 in /usr/local/lib/python3.10/dist-packages (from langchain-core<0.3,>=0.2.17->langchain_google_genai) (1.33)\n",
            "Requirement already satisfied: packaging<25,>=23.2 in /usr/local/lib/python3.10/dist-packages (from langchain-core<0.3,>=0.2.17->langchain_google_genai) (24.1)\n",
            "Requirement already satisfied: orjson<4.0.0,>=3.9.14 in /usr/local/lib/python3.10/dist-packages (from langsmith<0.2.0,>=0.1.17->langchain) (3.10.6)\n",
            "Requirement already satisfied: annotated-types>=0.4.0 in /usr/local/lib/python3.10/dist-packages (from pydantic<3,>=1->langchain) (0.7.0)\n",
            "Requirement already satisfied: pydantic-core==2.20.1 in /usr/local/lib/python3.10/dist-packages (from pydantic<3,>=1->langchain) (2.20.1)\n",
            "Requirement already satisfied: charset-normalizer<4,>=2 in /usr/local/lib/python3.10/dist-packages (from requests<3,>=2->langchain) (3.3.2)\n",
            "Requirement already satisfied: idna<4,>=2.5 in /usr/local/lib/python3.10/dist-packages (from requests<3,>=2->langchain) (3.7)\n",
            "Requirement already satisfied: urllib3<3,>=1.21.1 in /usr/local/lib/python3.10/dist-packages (from requests<3,>=2->langchain) (2.0.7)\n",
            "Requirement already satisfied: certifi>=2017.4.17 in /usr/local/lib/python3.10/dist-packages (from requests<3,>=2->langchain) (2024.7.4)\n",
            "Requirement already satisfied: greenlet!=0.4.17 in /usr/local/lib/python3.10/dist-packages (from SQLAlchemy<3,>=1.4->langchain) (3.0.3)\n",
            "Requirement already satisfied: googleapis-common-protos<2.0.dev0,>=1.56.2 in /usr/local/lib/python3.10/dist-packages (from google-api-core->google-generativeai<0.8.0,>=0.7.0->langchain_google_genai) (1.63.2)\n",
            "Requirement already satisfied: cachetools<6.0,>=2.0.0 in /usr/local/lib/python3.10/dist-packages (from google-auth>=2.15.0->google-generativeai<0.8.0,>=0.7.0->langchain_google_genai) (5.4.0)\n",
            "Requirement already satisfied: pyasn1-modules>=0.2.1 in /usr/local/lib/python3.10/dist-packages (from google-auth>=2.15.0->google-generativeai<0.8.0,>=0.7.0->langchain_google_genai) (0.4.0)\n",
            "Requirement already satisfied: rsa<5,>=3.1.4 in /usr/local/lib/python3.10/dist-packages (from google-auth>=2.15.0->google-generativeai<0.8.0,>=0.7.0->langchain_google_genai) (4.9)\n",
            "Requirement already satisfied: jsonpointer>=1.9 in /usr/local/lib/python3.10/dist-packages (from jsonpatch<2.0,>=1.33->langchain-core<0.3,>=0.2.17->langchain_google_genai) (3.0.0)\n",
            "Requirement already satisfied: mypy-extensions>=0.3.0 in /usr/local/lib/python3.10/dist-packages (from typing-inspect<1,>=0.4.0->dataclasses-json<0.7,>=0.5.7->langchain-community) (1.0.0)\n",
            "Requirement already satisfied: httplib2<1.dev0,>=0.19.0 in /usr/local/lib/python3.10/dist-packages (from google-api-python-client->google-generativeai<0.8.0,>=0.7.0->langchain_google_genai) (0.22.0)\n",
            "Requirement already satisfied: google-auth-httplib2<1.0.0,>=0.2.0 in /usr/local/lib/python3.10/dist-packages (from google-api-python-client->google-generativeai<0.8.0,>=0.7.0->langchain_google_genai) (0.2.0)\n",
            "Requirement already satisfied: uritemplate<5,>=3.0.1 in /usr/local/lib/python3.10/dist-packages (from google-api-python-client->google-generativeai<0.8.0,>=0.7.0->langchain_google_genai) (4.1.1)\n",
            "Requirement already satisfied: grpcio<2.0dev,>=1.33.2 in /usr/local/lib/python3.10/dist-packages (from google-api-core[grpc]!=2.0.*,!=2.1.*,!=2.10.*,!=2.2.*,!=2.3.*,!=2.4.*,!=2.5.*,!=2.6.*,!=2.7.*,!=2.8.*,!=2.9.*,<3.0.0dev,>=1.34.1->google-ai-generativelanguage==0.6.6->google-generativeai<0.8.0,>=0.7.0->langchain_google_genai) (1.64.1)\n",
            "Requirement already satisfied: grpcio-status<2.0.dev0,>=1.33.2 in /usr/local/lib/python3.10/dist-packages (from google-api-core[grpc]!=2.0.*,!=2.1.*,!=2.10.*,!=2.2.*,!=2.3.*,!=2.4.*,!=2.5.*,!=2.6.*,!=2.7.*,!=2.8.*,!=2.9.*,<3.0.0dev,>=1.34.1->google-ai-generativelanguage==0.6.6->google-generativeai<0.8.0,>=0.7.0->langchain_google_genai) (1.48.2)\n",
            "Requirement already satisfied: pyparsing!=3.0.0,!=3.0.1,!=3.0.2,!=3.0.3,<4,>=2.4.2 in /usr/local/lib/python3.10/dist-packages (from httplib2<1.dev0,>=0.19.0->google-api-python-client->google-generativeai<0.8.0,>=0.7.0->langchain_google_genai) (3.1.2)\n",
            "Requirement already satisfied: pyasn1<0.7.0,>=0.4.6 in /usr/local/lib/python3.10/dist-packages (from pyasn1-modules>=0.2.1->google-auth>=2.15.0->google-generativeai<0.8.0,>=0.7.0->langchain_google_genai) (0.6.0)\n"
          ]
        }
      ]
    },
    {
      "cell_type": "markdown",
      "source": [
        "## Load API key and Initial LLM"
      ],
      "metadata": {
        "id": "CL95YZP4YfF4"
      },
      "id": "CL95YZP4YfF4"
    },
    {
      "cell_type": "code",
      "execution_count": 76,
      "id": "4033ee5a",
      "metadata": {
        "colab": {
          "base_uri": "https://localhost:8080/"
        },
        "id": "4033ee5a",
        "outputId": "911bc94d-1cf8-4e56-e22b-c661877b81ed"
      },
      "outputs": [
        {
          "name": "stdout",
          "output_type": "stream",
          "text": [
            "Gemini API Key:··········\n"
          ]
        }
      ],
      "source": [
        "# Run this cell and paste the API key in the prompt\n",
        "import os\n",
        "import getpass\n",
        "\n",
        "GOOGLE_API_KEY = getpass.getpass('Gemini API Key:')"
      ]
    },
    {
      "cell_type": "code",
      "source": [
        "from langchain_google_genai import ChatGoogleGenerativeAI\n",
        "\n",
        "llm = ChatGoogleGenerativeAI(model=\"gemini-pro\",\n",
        "                 temperature=0.7, top_p=0.85, google_api_key=GOOGLE_API_KEY)"
      ],
      "metadata": {
        "id": "QF2rQNNNUV2y"
      },
      "id": "QF2rQNNNUV2y",
      "execution_count": 77,
      "outputs": []
    },
    {
      "cell_type": "markdown",
      "id": "59a6da87",
      "metadata": {
        "id": "59a6da87"
      },
      "source": [
        "## Load an entire book"
      ]
    },
    {
      "cell_type": "code",
      "execution_count": 78,
      "id": "f6ed1dcb",
      "metadata": {
        "id": "f6ed1dcb"
      },
      "outputs": [],
      "source": [
        "from langchain.document_loaders import PyPDFLoader\n",
        "\n",
        "# Load the book\n",
        "loader = PyPDFLoader(\"/content/crime-and-punishment.pdf\")\n",
        "pages = loader.load()\n",
        "\n",
        "# Combine the pages, and replace the tabs with spaces\n",
        "text = \"\"\n",
        "\n",
        "for page in pages:\n",
        "    text += page.page_content\n",
        "\n",
        "text = text.replace('\\t', ' ')"
      ]
    },
    {
      "cell_type": "code",
      "execution_count": 79,
      "id": "6db88712",
      "metadata": {
        "colab": {
          "base_uri": "https://localhost:8080/"
        },
        "id": "6db88712",
        "outputId": "68d65c4b-58ce-45e6-c8cd-c732a6739afc"
      },
      "outputs": [
        {
          "output_type": "stream",
          "name": "stdout",
          "text": [
            "This book has 314292 tokens in it\n"
          ]
        }
      ],
      "source": [
        "num_tokens = llm.get_num_tokens(text)\n",
        "\n",
        "print (f\"This book has {num_tokens} tokens in it\")"
      ]
    },
    {
      "cell_type": "markdown",
      "source": [
        "## Creating Embeddings"
      ],
      "metadata": {
        "id": "SmVHRWQkgJ_P"
      },
      "id": "SmVHRWQkgJ_P"
    },
    {
      "cell_type": "code",
      "execution_count": 80,
      "id": "e0e930b3",
      "metadata": {
        "id": "e0e930b3"
      },
      "outputs": [],
      "source": [
        "# Loaders\n",
        "from langchain.schema import Document\n",
        "\n",
        "# Splitters\n",
        "from langchain.text_splitter import RecursiveCharacterTextSplitter\n",
        "\n",
        "# Model\n",
        "from langchain.chat_models import ChatOpenAI\n",
        "\n",
        "# Embedding Support\n",
        "from langchain.vectorstores import FAISS\n",
        "# from langchain.embeddings import OpenAIEmbeddings\n",
        "from langchain_google_genai import GoogleGenerativeAIEmbeddings\n",
        "\n",
        "# Prompts\n",
        "from langchain import PromptTemplate\n",
        "\n",
        "# Summarizer we'll use for Map Reduce\n",
        "from langchain.chains.summarize import load_summarize_chain\n",
        "\n",
        "# Data Science\n",
        "import numpy as np\n",
        "from sklearn.cluster import KMeans"
      ]
    },
    {
      "cell_type": "code",
      "execution_count": 81,
      "id": "0d3d233d",
      "metadata": {
        "id": "0d3d233d"
      },
      "outputs": [],
      "source": [
        "text_splitter = RecursiveCharacterTextSplitter(separators=[\"\\n\\n\", \"\\n\", \"\\t\"], chunk_size=10000, chunk_overlap=3000)\n",
        "\n",
        "docs = text_splitter.create_documents([text])"
      ]
    },
    {
      "cell_type": "code",
      "execution_count": 82,
      "id": "c1c2c701",
      "metadata": {
        "colab": {
          "base_uri": "https://localhost:8080/"
        },
        "id": "c1c2c701",
        "outputId": "17fdf852-f47a-4608-be00-7485903d1a08"
      },
      "outputs": [
        {
          "output_type": "stream",
          "name": "stdout",
          "text": [
            "Now our book is split up into 167 documents\n"
          ]
        }
      ],
      "source": [
        "num_documents = len(docs)\n",
        "\n",
        "print (f\"Now our book is split up into {num_documents} documents\")"
      ]
    },
    {
      "cell_type": "code",
      "execution_count": 83,
      "id": "898fc62c",
      "metadata": {
        "id": "898fc62c"
      },
      "outputs": [],
      "source": [
        "embeddings = GoogleGenerativeAIEmbeddings(model=\"models/embedding-001\",google_api_key=GOOGLE_API_KEY)\n",
        "\n",
        "vectors = embeddings.embed_documents([x.page_content for x in docs])"
      ]
    },
    {
      "cell_type": "markdown",
      "id": "726f6dee",
      "metadata": {
        "id": "726f6dee"
      },
      "source": [
        "Now let's cluster our embeddings."
      ]
    },
    {
      "cell_type": "markdown",
      "source": [
        "## Creating Clusters"
      ],
      "metadata": {
        "id": "HWCMfe0OgFIe"
      },
      "id": "HWCMfe0OgFIe"
    },
    {
      "cell_type": "code",
      "execution_count": 84,
      "id": "55c8dce0",
      "metadata": {
        "id": "55c8dce0"
      },
      "outputs": [],
      "source": [
        "num_clusters = 11\n",
        "\n",
        "# Perform K-means clustering\n",
        "kmeans = KMeans(n_clusters=num_clusters, random_state=42).fit(vectors)"
      ]
    },
    {
      "cell_type": "code",
      "execution_count": 85,
      "id": "218dce05",
      "metadata": {
        "colab": {
          "base_uri": "https://localhost:8080/"
        },
        "id": "218dce05",
        "outputId": "a7abcd2f-4158-44e2-b585-f5d60b877a96"
      },
      "outputs": [
        {
          "output_type": "execute_result",
          "data": {
            "text/plain": [
              "array([ 9,  9,  9,  1,  0,  0,  0,  0,  0,  3,  6,  6,  6,  6,  6,  3,  1,\n",
              "        1,  4,  0,  9,  9,  9,  9,  9,  9,  9,  9,  9,  9,  1,  1,  1,  1,\n",
              "        1,  1,  1,  1,  1,  1,  1,  1,  2,  2,  2,  2,  5,  5,  1,  1,  1,\n",
              "        1,  1,  1,  1,  0,  0,  0,  0,  3,  1,  6,  6,  6,  1,  1,  6,  6,\n",
              "        6,  6,  4,  6,  6,  3,  6,  3,  8,  8,  8,  2,  2,  2,  2,  8,  1,\n",
              "        9,  4,  4,  4,  6,  6,  6,  6,  6,  6,  6,  3,  3,  3,  7,  7,  8,\n",
              "        8,  2,  8,  8,  8,  8,  8,  8,  5,  5,  5,  5,  0,  0,  0,  0,  0,\n",
              "        5,  3,  5,  5,  3,  7,  7,  7,  7,  3,  3,  0,  0,  0,  3,  3,  8,\n",
              "        8,  8,  8,  8,  8, 10,  4,  4,  4,  4, 10, 10, 10,  6, 10, 10, 10,\n",
              "       10, 10, 10,  6,  6,  6,  3,  1,  1,  1,  6,  6,  3,  3],\n",
              "      dtype=int32)"
            ]
          },
          "metadata": {},
          "execution_count": 85
        }
      ],
      "source": [
        "kmeans.labels_"
      ]
    },
    {
      "cell_type": "code",
      "execution_count": 86,
      "id": "55f2f664",
      "metadata": {
        "id": "55f2f664"
      },
      "outputs": [],
      "source": [
        "# Find the closest embeddings to the centroids\n",
        "\n",
        "# Create an empty list that will hold your closest points\n",
        "closest_indices = []\n",
        "\n",
        "# Loop through the number of clusters you have\n",
        "for i in range(num_clusters):\n",
        "\n",
        "    # Get the list of distances from that particular cluster center\n",
        "    distances = np.linalg.norm(vectors - kmeans.cluster_centers_[i], axis=1)\n",
        "\n",
        "    # Find the list position of the closest one (using argmin to find the smallest distance)\n",
        "    closest_index = np.argmin(distances)\n",
        "\n",
        "    # Append that position to your closest indices list\n",
        "    closest_indices.append(closest_index)"
      ]
    },
    {
      "cell_type": "markdown",
      "id": "f5a44596",
      "metadata": {
        "id": "f5a44596"
      },
      "source": [
        "Now sort them (so the chunks are processed in order)"
      ]
    },
    {
      "cell_type": "code",
      "execution_count": 87,
      "id": "679297ac",
      "metadata": {
        "colab": {
          "base_uri": "https://localhost:8080/"
        },
        "id": "679297ac",
        "outputId": "0c081b5e-6639-48ee-d881-ce722fb9a34e"
      },
      "outputs": [
        {
          "output_type": "execute_result",
          "data": {
            "text/plain": [
              "[24, 58, 60, 82, 92, 96, 105, 122, 125, 143, 148]"
            ]
          },
          "metadata": {},
          "execution_count": 87
        }
      ],
      "source": [
        "selected_indices = sorted(closest_indices)\n",
        "selected_indices"
      ]
    },
    {
      "cell_type": "markdown",
      "source": [
        "## Creating summaries of each cluster"
      ],
      "metadata": {
        "id": "d7icZyS-f933"
      },
      "id": "d7icZyS-f933"
    },
    {
      "cell_type": "code",
      "execution_count": 88,
      "id": "83bc55d8",
      "metadata": {
        "id": "83bc55d8"
      },
      "outputs": [],
      "source": [
        "llm3 = ChatGoogleGenerativeAI(model=\"gemini-pro\",\n",
        "                 temperature=0.7, top_p=0.85, google_api_key=GOOGLE_API_KEY)"
      ]
    },
    {
      "cell_type": "code",
      "execution_count": 89,
      "id": "5552e6d3",
      "metadata": {
        "id": "5552e6d3"
      },
      "outputs": [],
      "source": [
        "map_prompt = \"\"\"\n",
        "You will be given a single passage of a book. This section will be enclosed in triple backticks (```)\n",
        "Your goal is to give a summary of this section so that a reader will have a full understanding of what happened.\n",
        "Your response should be at least three paragraphs and fully encompass what was said in the passage.\n",
        "\n",
        "```{text}```\n",
        "FULL SUMMARY:\n",
        "\"\"\"\n",
        "map_prompt_template = PromptTemplate(template=map_prompt, input_variables=[\"text\"])"
      ]
    },
    {
      "cell_type": "code",
      "execution_count": 90,
      "id": "bb5eb0d9",
      "metadata": {
        "id": "bb5eb0d9"
      },
      "outputs": [],
      "source": [
        "map_chain = load_summarize_chain(llm=llm3,\n",
        "                             chain_type=\"stuff\",\n",
        "                             prompt=map_prompt_template)"
      ]
    },
    {
      "cell_type": "markdown",
      "id": "e4e1ec38",
      "metadata": {
        "id": "e4e1ec38"
      },
      "source": [
        "Then go get your docs which the top vectors represented."
      ]
    },
    {
      "cell_type": "code",
      "execution_count": 91,
      "id": "781a686c",
      "metadata": {
        "id": "781a686c"
      },
      "outputs": [],
      "source": [
        "selected_docs = [docs[doc] for doc in selected_indices]"
      ]
    },
    {
      "cell_type": "markdown",
      "id": "eca5fc42",
      "metadata": {
        "id": "eca5fc42"
      },
      "source": [
        "Let's loop through our selected docs and get a good summary for each chunk. We'll store the summary in a list."
      ]
    },
    {
      "cell_type": "code",
      "execution_count": 92,
      "id": "7e2220ab",
      "metadata": {
        "colab": {
          "base_uri": "https://localhost:8080/"
        },
        "id": "7e2220ab",
        "outputId": "5b39e94c-8115-4f9c-b227-ac6140fffeac"
      },
      "outputs": [
        {
          "output_type": "stream",
          "name": "stdout",
          "text": [
            "Summary #0 (chunk #24) - Preview: Raskolnikov's plan to murder the pawnbroker was disrupted when he found her unexpectedly home. He had not anticipated this and was overwhelmed with frustration and humiliation. However, he noticed an axe in the porter's room and seized it as a weapon \n",
            "\n",
            "Summary #1 (chunk #58) - Preview: Katerina Ivanovna arrives at the scene of her husband's accident, where a priest is administering last rites. She angrily dismisses the priest's words of comfort and reveals her resentment towards her husband, accusing him of bringing misery and pove \n",
            "\n",
            "Summary #2 (chunk #60) - Preview: Raskolnikov returns home with Razumihin, who reveals that Porfiry and Ilya Petrovitch suspect Raskolnikov of madness. Raskolnikov is agitated and denies being mad. He tells Razumihin about visiting a dying clerk and encountering someone with a flame- \n",
            "\n",
            "Summary #3 (chunk #82) - Preview: Raskolnikov is interrogated by Porfiry Petrovitch, a police investigator, about the murder of Alyona Ivanovna. Porfiry hints that he suspects Raskolnikov, but Raskolnikov denies any involvement. Porfiry then questions Raskolnikov about his whereabout \n",
            "\n",
            "Summary #4 (chunk #92) - Preview: The passage describes a tense and confrontational meeting between Pyotr Petrovitch Luzhin, his fiancée Avdotya Romanovna (Dounia), her brother Rodion Romanovich Raskolnikov (Rodya), their mother Pulcheria Alexandrovna, and their friend Razumihin.\n",
            "\n",
            "Lu \n",
            "\n",
            "Summary #5 (chunk #96) - Preview: Raskolnikov abruptly announces his desire to be left alone, despite his mother and sister's pleas for reconciliation. He insists on cutting off contact and leaves the room, prompting his sister Dounia to accuse him of heartlessness. Razumihin, howeve \n",
            "\n",
            "Summary #6 (chunk #105) - Preview: During an intense confrontation, Raskolnikov accuses Porfiry of suspecting him for the murder of the old woman and her sister. He demands that Porfiry either arrests him or stops tormenting him. Porfiry feigns alarm, expressing concern for Raskolniko \n",
            "\n",
            "Summary #7 (chunk #122) - Preview: Raskolnikov accuses Pyotr Luzhin of slandering Sonia and lying about her character to drive a wedge between Raskolnikov and his family. He reveals that Luzhin had previously accused Sonia of theft, but this accusation was false and motivated by Luzhi \n",
            "\n",
            "Summary #8 (chunk #125) - Preview: Raskolnikov confesses to Sonia that he murdered Lizaveta, and Sonia is horrified. She initially tries to comfort him, but as she learns more about the murder, her sympathy turns to disgust. She realizes that Raskolnikov killed not out of necessity bu \n",
            "\n",
            "Summary #9 (chunk #143) - Preview:  \n",
            "\n",
            "Summary #10 (chunk #148) - Preview: Raskolnikov and Svidrigaïlov briefly encounter at a restaurant, but their conversation is interrupted when Svidrigaïlov spots Dounia and discreetly signals her to meet him. Dounia agrees, and Svidrigaïlov leads her to his apartment, which is situated \n",
            "\n"
          ]
        }
      ],
      "source": [
        "# Make an empty list to hold your summaries\n",
        "summary_list = []\n",
        "\n",
        "# Loop through a range of the lenght of your selected docs\n",
        "for i, doc in enumerate(selected_docs):\n",
        "\n",
        "    # Go get a summary of the chunk\n",
        "    chunk_summary = map_chain.run([doc])\n",
        "\n",
        "    # Append that summary to your list\n",
        "    summary_list.append(chunk_summary)\n",
        "\n",
        "    print (f\"Summary #{i} (chunk #{selected_indices[i]}) - Preview: {chunk_summary[:250]} \\n\")"
      ]
    },
    {
      "cell_type": "markdown",
      "id": "7fae1a72",
      "metadata": {
        "id": "7fae1a72"
      },
      "source": [
        "## Combined Summary"
      ]
    },
    {
      "cell_type": "code",
      "execution_count": 93,
      "id": "4083431d",
      "metadata": {
        "colab": {
          "base_uri": "https://localhost:8080/"
        },
        "id": "4083431d",
        "outputId": "a196ccae-a337-4307-c482-d84a69058abf"
      },
      "outputs": [
        {
          "output_type": "stream",
          "name": "stdout",
          "text": [
            "Your total summary has 2551 tokens\n"
          ]
        }
      ],
      "source": [
        "summaries = \"\\n\".join(summary_list)\n",
        "\n",
        "# Convert it back to a document\n",
        "summaries = Document(page_content=summaries)\n",
        "\n",
        "print (f\"Your total summary has {llm.get_num_tokens(summaries.page_content)} tokens\")"
      ]
    },
    {
      "cell_type": "code",
      "execution_count": 94,
      "id": "1d2e71c5",
      "metadata": {
        "id": "1d2e71c5"
      },
      "outputs": [],
      "source": [
        "llm4 = ChatGoogleGenerativeAI(model=\"gemini-pro\",\n",
        "                 temperature=0.7, top_p=0.85, google_api_key=GOOGLE_API_KEY)"
      ]
    },
    {
      "cell_type": "code",
      "execution_count": 95,
      "id": "b98e7321",
      "metadata": {
        "id": "b98e7321"
      },
      "outputs": [],
      "source": [
        "combine_prompt = \"\"\"\n",
        "You will be given a series of summaries from a book. The summaries will be enclosed in triple backticks (```)\n",
        "Your goal is to give a verbose summary of what happened in the story.\n",
        "The reader should be able to grasp what happened in the book.\n",
        "\n",
        "```{text}```\n",
        "VERBOSE SUMMARY:\n",
        "\"\"\"\n",
        "combine_prompt_template = PromptTemplate(template=combine_prompt, input_variables=[\"text\"])"
      ]
    },
    {
      "cell_type": "code",
      "execution_count": 96,
      "id": "2930c26e",
      "metadata": {
        "id": "2930c26e"
      },
      "outputs": [],
      "source": [
        "reduce_chain = load_summarize_chain(llm=llm4,\n",
        "                             chain_type=\"stuff\",\n",
        "                             prompt=combine_prompt_template,\n",
        "#                              verbose=True # Set this to true if you want to see the inner workings\n",
        "                                   )"
      ]
    },
    {
      "cell_type": "markdown",
      "id": "e9958142",
      "metadata": {
        "id": "e9958142"
      },
      "source": [
        "Run! Note this will take a while"
      ]
    },
    {
      "cell_type": "code",
      "execution_count": 97,
      "id": "c6eda913",
      "metadata": {
        "id": "c6eda913"
      },
      "outputs": [],
      "source": [
        "output = reduce_chain.run([summaries])"
      ]
    },
    {
      "cell_type": "code",
      "execution_count": 98,
      "id": "915628a1",
      "metadata": {
        "colab": {
          "base_uri": "https://localhost:8080/"
        },
        "id": "915628a1",
        "outputId": "823e9483-b9ba-4fa0-98b7-23efe48a5752"
      },
      "outputs": [
        {
          "output_type": "stream",
          "name": "stdout",
          "text": [
            "In the depths of his poverty and desperation, Raskolnikov hatched a plan to murder the pawnbroker, Alyona Ivanovna, in order to steal her money and escape his financial woes. However, his plan was disrupted when he found her unexpectedly home. Overwhelmed by frustration and humiliation, he seized an axe from the porter's room and proceeded towards her apartment.\n",
            "\n",
            "As he approached the building, Raskolnikov's mind wandered to irrelevant thoughts, a distraction from the gravity of his mission. Upon reaching the pawnbroker's door, he listened intently and heard a faint noise. Suspecting someone was listening from within, he rang the bell several times. After a moment, the latch was unfastened, but the door was opened only slightly, revealing the pawnbroker's suspicious eyes. Raskolnikov made the mistake of pulling the door open, nearly dragging the old woman out with it. She retreated in alarm as Raskolnikov entered the apartment uninvited.\n",
            "\n",
            "Inside, Raskolnikov found the pawnbroker's half-sister, Lizaveta, who was also murdered in the struggle. The crime was impulsive and chaotic, and Raskolnikov was left feeling horrified and guilty. He managed to escape the scene undetected, but the weight of his actions haunted him.\n",
            "\n",
            "In the aftermath of the murders, Raskolnikov encountered various characters who played significant roles in his life. Katerina Ivanovna, the widow of a drunkard, accused him of bringing misery upon her family. Sonia, a young prostitute, showed him compassion and offered him redemption. Porfiry Petrovitch, a cunning police investigator, suspected Raskolnikov's involvement in the murders and interrogated him relentlessly.\n",
            "\n",
            "As the investigation progressed, Raskolnikov's guilt and paranoia intensified. He became increasingly isolated and alienated from his family and friends. His mental state deteriorated, and he experienced hallucinations and delusions.\n",
            "\n",
            "Eventually, Raskolnikov confessed his crimes to Sonia and sought her forgiveness. Sonia, despite her revulsion, agreed to follow him to Siberia, where he would be exiled for his punishment. Raskolnikov's journey towards redemption began, guided by Sonia's love and compassion.\n"
          ]
        }
      ],
      "source": [
        "print(output)"
      ]
    },
    {
      "cell_type": "markdown",
      "source": [
        "## Create PDF"
      ],
      "metadata": {
        "id": "Nwv65lBffyjB"
      },
      "id": "Nwv65lBffyjB"
    },
    {
      "cell_type": "code",
      "source": [
        "from fpdf import FPDF\n",
        "\n",
        "def create_pdf(content, output_path=\"output.pdf\"):\n",
        "    pdf = FPDF()\n",
        "    pdf.set_auto_page_break(auto=True, margin=15)\n",
        "    pdf.add_page()\n",
        "    pdf.set_font(\"Arial\", size=12)\n",
        "\n",
        "    for item in content:\n",
        "        pdf.multi_cell(0, 10, item)\n",
        "        pdf.ln()  # Add a line break between items\n",
        "\n",
        "    pdf.output(output_path)\n",
        "\n",
        "# Execute the chain with delay and create a PDF\n",
        "try:\n",
        "    text = output.split('\\n\\n')\n",
        "    # processed_results = process_with_delay(docs)\n",
        "    create_pdf(text, \"Crime_and_Punishment_Summary.pdf\")\n",
        "    print(\"PDF created successfully.\")\n",
        "except Exception as e:\n",
        "    print(f\"Error: {e}\")"
      ],
      "metadata": {
        "colab": {
          "base_uri": "https://localhost:8080/"
        },
        "id": "mhNW09t3Z6GF",
        "outputId": "8122c386-2805-4b52-9277-22d5234473a8"
      },
      "id": "mhNW09t3Z6GF",
      "execution_count": 99,
      "outputs": [
        {
          "output_type": "stream",
          "name": "stdout",
          "text": [
            "PDF created successfully.\n"
          ]
        }
      ]
    },
    {
      "cell_type": "markdown",
      "source": [
        "# Task 2"
      ],
      "metadata": {
        "id": "UJ--IBe2fIv4"
      },
      "id": "UJ--IBe2fIv4"
    },
    {
      "cell_type": "code",
      "source": [
        "from langchain.prompts import PromptTemplate\n",
        "\n",
        "# Define the prompt template\n",
        "prompt_template = PromptTemplate(\n",
        "    input_variables=[\"name\", \"field_of_study\", \"year_of_study\", \"subjects\", \"learning_styles\", \"objectives\", \"challenges\", \"extracurricular_activities\"],\n",
        "    template=\"\"\"\n",
        "    ### Instructions\n",
        "    You are an AI academic advisor tasked with creating personalized study plans for students. Each student has a unique profile, and your goal is to design a study plan that not only addresses their academic requirements but also aligns with their personal preferences, goals, and challenges.\n",
        "\n",
        "    ### Student Information\n",
        "    - Name: {name}\n",
        "    - Field of Study: {field_of_study}\n",
        "    - Year of Study: {year_of_study}\n",
        "    - Subjects: {subjects}\n",
        "    - Preferred Learning Styles: {learning_styles}\n",
        "    - Personal Objectives: {objectives}\n",
        "    - Challenges: {challenges}\n",
        "    - Extracurricular Activities: {extracurricular_activities}\n",
        "\n",
        "    ### Desired Study Plan Format\n",
        "    Based on the above information, create a comprehensive study plan that includes the following components:\n",
        "\n",
        "    1. Subject-wise Study Plan:\n",
        "        - Provide a detailed study schedule for each subject.\n",
        "        - Include recommended resources (books, online courses, videos) tailored to the student's learning style.\n",
        "        - Suggest specific study techniques that align with the student's preferred learning styles (visual, auditory, kinesthetic).\n",
        "        - Example:\n",
        "          - Subject: Mathematics\n",
        "          - Schedule: Study for 1 hour daily in the morning\n",
        "          - Resources: \"Khan Academy\" videos, \"Calculus\" by James Stewart\n",
        "          - Techniques: Use visual aids like graphs and diagrams\n",
        "\n",
        "    2. Personal Objectives and Challenges:\n",
        "        - Address the student's personal objectives, such as preparing for a specific exam or achieving a particular grade.\n",
        "        - Provide strategies to overcome any challenges or learning difficulties mentioned.\n",
        "        - Example:\n",
        "          - Objective: Prepare for final exams\n",
        "          - Strategy: Create a revision timetable starting 2 months before exams\n",
        "          - Challenge: Difficulty with advanced calculus\n",
        "          - Solution: Weekly tutoring sessions, practice problems\n",
        "\n",
        "    3. Integration of Extracurricular Activities:\n",
        "        - Suggest a balanced schedule that allows the student to manage their academic workload alongside their extracurricular activities.\n",
        "        - Recommend ways to integrate learning opportunities from extracurricular activities into the study plan.\n",
        "        - Example:\n",
        "          - Activity: Robotics club\n",
        "          - Integration: Apply physics and programming concepts from coursework to robotics projects\n",
        "\n",
        "    4. Regular Assessments and Adjustments:\n",
        "        - Propose a system for regular self-assessment to monitor progress.\n",
        "        - Include checkpoints for reviewing and adjusting the study plan based on performance and feedback.\n",
        "        - Example:\n",
        "          - Assessment: Bi-weekly quizzes for each subject\n",
        "          - Checkpoints: Monthly review meetings with a mentor\n",
        "\n",
        "    5. Motivation and Well-being:\n",
        "        - Incorporate motivational strategies to keep the student engaged and motivated.\n",
        "        - Suggest practices for maintaining well-being and managing stress.\n",
        "        - Example:\n",
        "          - Motivation: Set short-term goals and reward achievements\n",
        "          - Well-being: Practice mindfulness and take regular breaks\n",
        "\n",
        "    Ensure that the study plan is detailed, actionable, and personalized to meet the student's unique needs and aspirations.\n",
        "    \"\"\"\n",
        ")\n",
        "\n",
        "# Example usage\n",
        "input_data = {\n",
        "    \"name\": \"Ammar Hussain\",\n",
        "    \"field_of_study\": \"Mechatronics Engineering\",\n",
        "    \"year_of_study\": \"3rd Year\",\n",
        "    \"subjects\": \"Mathematics, Physics, Computer Science, Electronics\",\n",
        "    \"learning_styles\": \"Visual, Kinesthetic\",\n",
        "    \"objectives\": \"Prepare for final exams, master machine learning concepts\",\n",
        "    \"challenges\": \"Difficulty with advanced calculus, managing time effectively\",\n",
        "    \"extracurricular_activities\": \"Robotics club, Football team\"\n",
        "}\n",
        "\n",
        "# Generate the prompt\n",
        "prompt = prompt_template.format(**input_data)\n",
        "print(prompt)\n"
      ],
      "metadata": {
        "colab": {
          "base_uri": "https://localhost:8080/"
        },
        "id": "p_IXHSpUaigF",
        "outputId": "6c067f25-5ad9-4e54-b810-7a4727dc4f0a"
      },
      "id": "p_IXHSpUaigF",
      "execution_count": 100,
      "outputs": [
        {
          "output_type": "stream",
          "name": "stdout",
          "text": [
            "\n",
            "    ### Instructions\n",
            "    You are an AI academic advisor tasked with creating personalized study plans for students. Each student has a unique profile, and your goal is to design a study plan that not only addresses their academic requirements but also aligns with their personal preferences, goals, and challenges. \n",
            "\n",
            "    ### Student Information\n",
            "    - Name: Ammar Hussain\n",
            "    - Field of Study: Mechatronics Engineering\n",
            "    - Year of Study: 3rd Year\n",
            "    - Subjects: Mathematics, Physics, Computer Science, Electronics\n",
            "    - Preferred Learning Styles: Visual, Kinesthetic\n",
            "    - Personal Objectives: Prepare for final exams, master machine learning concepts\n",
            "    - Challenges: Difficulty with advanced calculus, managing time effectively\n",
            "    - Extracurricular Activities: Robotics club, Football team\n",
            "\n",
            "    ### Desired Study Plan Format\n",
            "    Based on the above information, create a comprehensive study plan that includes the following components:\n",
            "\n",
            "    1. Subject-wise Study Plan:\n",
            "        - Provide a detailed study schedule for each subject.\n",
            "        - Include recommended resources (books, online courses, videos) tailored to the student's learning style.\n",
            "        - Suggest specific study techniques that align with the student's preferred learning styles (visual, auditory, kinesthetic).\n",
            "        - Example:\n",
            "          - Subject: Mathematics\n",
            "          - Schedule: Study for 1 hour daily in the morning\n",
            "          - Resources: \"Khan Academy\" videos, \"Calculus\" by James Stewart\n",
            "          - Techniques: Use visual aids like graphs and diagrams\n",
            "\n",
            "    2. Personal Objectives and Challenges:\n",
            "        - Address the student's personal objectives, such as preparing for a specific exam or achieving a particular grade.\n",
            "        - Provide strategies to overcome any challenges or learning difficulties mentioned.\n",
            "        - Example:\n",
            "          - Objective: Prepare for final exams\n",
            "          - Strategy: Create a revision timetable starting 2 months before exams\n",
            "          - Challenge: Difficulty with advanced calculus\n",
            "          - Solution: Weekly tutoring sessions, practice problems\n",
            "\n",
            "    3. Integration of Extracurricular Activities:\n",
            "        - Suggest a balanced schedule that allows the student to manage their academic workload alongside their extracurricular activities.\n",
            "        - Recommend ways to integrate learning opportunities from extracurricular activities into the study plan.\n",
            "        - Example:\n",
            "          - Activity: Robotics club\n",
            "          - Integration: Apply physics and programming concepts from coursework to robotics projects\n",
            "\n",
            "    4. Regular Assessments and Adjustments:\n",
            "        - Propose a system for regular self-assessment to monitor progress.\n",
            "        - Include checkpoints for reviewing and adjusting the study plan based on performance and feedback.\n",
            "        - Example:\n",
            "          - Assessment: Bi-weekly quizzes for each subject\n",
            "          - Checkpoints: Monthly review meetings with a mentor\n",
            "\n",
            "    5. Motivation and Well-being:\n",
            "        - Incorporate motivational strategies to keep the student engaged and motivated.\n",
            "        - Suggest practices for maintaining well-being and managing stress.\n",
            "        - Example:\n",
            "          - Motivation: Set short-term goals and reward achievements\n",
            "          - Well-being: Practice mindfulness and take regular breaks\n",
            "\n",
            "    Ensure that the study plan is detailed, actionable, and personalized to meet the student's unique needs and aspirations.\n",
            "    \n"
          ]
        }
      ]
    },
    {
      "cell_type": "code",
      "source": [],
      "metadata": {
        "id": "5XRxQ4eAfnDS"
      },
      "id": "5XRxQ4eAfnDS",
      "execution_count": 100,
      "outputs": []
    }
  ],
  "metadata": {
    "kernelspec": {
      "display_name": "Python 3 (ipykernel)",
      "language": "python",
      "name": "python3"
    },
    "language_info": {
      "codemirror_mode": {
        "name": "ipython",
        "version": 3
      },
      "file_extension": ".py",
      "mimetype": "text/x-python",
      "name": "python",
      "nbconvert_exporter": "python",
      "pygments_lexer": "ipython3",
      "version": "3.9.13"
    },
    "colab": {
      "provenance": [],
      "collapsed_sections": [
        "zA71rFgMYb0f",
        "CL95YZP4YfF4",
        "59a6da87",
        "SmVHRWQkgJ_P",
        "HWCMfe0OgFIe",
        "d7icZyS-f933",
        "7fae1a72",
        "Nwv65lBffyjB",
        "UJ--IBe2fIv4"
      ]
    }
  },
  "nbformat": 4,
  "nbformat_minor": 5
}